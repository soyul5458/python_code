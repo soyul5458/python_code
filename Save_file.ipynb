{
 "cells": [
  {
   "cell_type": "markdown",
   "id": "46bfbab7",
   "metadata": {},
   "source": [
    "# Save data"
   ]
  },
  {
   "cell_type": "code",
   "execution_count": 1,
   "id": "5d2c5b86",
   "metadata": {},
   "outputs": [
    {
     "name": "stderr",
     "output_type": "stream",
     "text": [
      "/usr/lib/python3/dist-packages/requests/__init__.py:89: RequestsDependencyWarning: urllib3 (1.26.11) or chardet (3.0.4) doesn't match a supported version!\n",
      "  warnings.warn(\"urllib3 ({}) or chardet ({}) doesn't match a supported \"\n"
     ]
    }
   ],
   "source": [
    "import datetime\n",
    "\n",
    "import tensorflow as tf\n",
    "import numpy as np\n",
    "import os\n",
    "import tensorflow.keras\n",
    "from tensorflow.keras import backend as K\n",
    "from scipy.io import wavfile\n",
    "import numpy as np\n",
    "import librosa\n",
    "import soundfile as sf\n",
    "from tensorflow.keras.utils import to_categorical\n",
    "import msgpack\n",
    "import msgpack_numpy as m\n",
    "import os\n",
    "from tensorflow.keras.layers import Conv2D, maximum, add, SeparableConv2D\n",
    "from sklearn.metrics import roc_curve"
   ]
  },
  {
   "cell_type": "code",
   "execution_count": 2,
   "id": "a5054c93",
   "metadata": {},
   "outputs": [],
   "source": [
    "save_path = '/Data/syh19/FFM_sy/'"
   ]
  },
  {
   "cell_type": "code",
   "execution_count": null,
   "id": "0e3fe6f6",
   "metadata": {},
   "outputs": [],
   "source": [
    "import shutil\n",
    "\n",
    "# 원본 WAV 파일 경로\n",
    "add2022 = '/Data/data/ADD2022/ADD_train_dev/train/'\n",
    "original_wav_fname = add2022 + 'ADD_T_00000000.wav'\n",
    "\n",
    "# 새로운 저장 경로\n",
    "save_path = '/Data/syh19/FFM_sy/sample_data/'\n",
    "new_wav_fname = save_path + 'ADD_T_00000000.wav'\n",
    "\n",
    "# 원본 WAV 파일을 새 경로로 복사\n",
    "shutil.copy2(original_wav_fname, new_wav_fname)\n",
    "\n",
    "print(f\"WAV 파일을 새 경로에 저장 완료: {new_wav_fname}\")\n"
   ]
  }
 ],
 "metadata": {
  "kernelspec": {
   "display_name": "Python 3 (ipykernel)",
   "language": "python",
   "name": "python3"
  },
  "language_info": {
   "codemirror_mode": {
    "name": "ipython",
    "version": 3
   },
   "file_extension": ".py",
   "mimetype": "text/x-python",
   "name": "python",
   "nbconvert_exporter": "python",
   "pygments_lexer": "ipython3",
   "version": "3.8.10"
  },
  "toc": {
   "base_numbering": 1,
   "nav_menu": {},
   "number_sections": true,
   "sideBar": true,
   "skip_h1_title": false,
   "title_cell": "Table of Contents",
   "title_sidebar": "Contents",
   "toc_cell": false,
   "toc_position": {
    "height": "calc(100% - 180px)",
    "left": "10px",
    "top": "150px",
    "width": "283.993px"
   },
   "toc_section_display": true,
   "toc_window_display": true
  }
 },
 "nbformat": 4,
 "nbformat_minor": 5
}
